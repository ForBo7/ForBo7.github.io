{
  "cells": [
    {
      "cell_type": "markdown",
      "metadata": {
        "id": "Emoc8lVr7JQN"
      },
      "source": [
        "---\n",
        "title: A Brief Token on Tokenizers\n",
        "subtitle: This limited time DLC post costs only 499 tokens to unlock.\n",
        "description: Tokenizers in a high-level nutshell.\n",
        "image: ../images/19_tokenizers/thumbnail.png\n",
        "author: Salman Naqvi\n",
        "date: '2024-01-22'\n",
        "categories: [LLMs, Transformers]\n",
        "open-graph:\n",
        "  description: Tokenizers in a high-level nutshell.\n",
        "  image: ../images/19_tokenizers/thumbnail.png\n",
        "twitter-card:\n",
        "  description: Tokenizers in a high-level nutshell.\n",
        "  image: ../images/19_tokenizers/thumbnail.png\n",
        "format:\n",
        "  html: default\n",
        "  ipynb: default\n",
        "---"
      ]
    },
    {
      "cell_type": "markdown",
      "metadata": {
        "id": "5Rc8wUeO6x3Z"
      },
      "source": [
        "> This notebook follows the [fastai style guide](https://docs.fast.ai/dev/style.html)."
      ]
    },
    {
      "cell_type": "markdown",
      "metadata": {},
      "source": [
        "![](../images/19_tokenizers/thumbnail.png)"
      ]
    },
    {
      "cell_type": "markdown",
      "metadata": {},
      "source": [
        "Tokenization is the process whereby text is given a numerical representation. Sentences are split into components known as tokens. These tokens represent numerical values that language models can work with.\n",
        "\n",
        "There are various approaches to tokenization. Examples include:\n",
        "\n",
        "* word-based tokenization\n",
        "* character-based tokenization\n",
        "* subword-based tokenization\n",
        "* and a whole lot more.\n",
        "\n",
        "Language models require the use of their own tokenization technique to properly work. Let's have a look at three approaches."
      ]
    },
    {
      "cell_type": "markdown",
      "metadata": {
        "id": "BnP7WSPF7kpc"
      },
      "source": [
        "## Word-based"
      ]
    },
    {
      "cell_type": "markdown",
      "metadata": {
        "id": "0yBBYeslFQSP"
      },
      "source": [
        "The word-based approach, well, splits sentences into individual words. In some cases, it also splits on punctuation.\n",
        "\n",
        "In the example below, the sentence is tokenized into its words using whitespace."
      ]
    },
    {
      "cell_type": "code",
      "execution_count": 1,
      "metadata": {
        "colab": {
          "base_uri": "https://localhost:8080/"
        },
        "id": "pRMyqbcnEXdV",
        "outputId": "e2ac5d36-aca7-4b93-ecc1-a26600b00266"
      },
      "outputs": [
        {
          "data": {
            "text/plain": [
              "[\"I'm\", 'really', 'excited', 'doing', 'this,', 'you', 'know?']"
            ]
          },
          "execution_count": 1,
          "metadata": {},
          "output_type": "execute_result"
        }
      ],
      "source": [
        "\"I'm really excited doing this, you know?\".split()"
      ]
    },
    {
      "cell_type": "markdown",
      "metadata": {
        "id": "7JxL4UopWaff"
      },
      "source": [
        "Let's see it split based on its punctuation."
      ]
    },
    {
      "cell_type": "code",
      "execution_count": 2,
      "metadata": {
        "colab": {
          "base_uri": "https://localhost:8080/"
        },
        "id": "J4ANBKQWLvkM",
        "outputId": "df4cc4a8-490f-4d3f-f2c2-5daa149303cd"
      },
      "outputs": [
        {
          "data": {
            "text/plain": [
              "['I', \"'\", 'm', 'really', 'excited', 'doing', 'this', ',', 'you', 'know', '?']"
            ]
          },
          "execution_count": 2,
          "metadata": {},
          "output_type": "execute_result"
        }
      ],
      "source": [
        "import re\n",
        "\n",
        "seq = \"I'm really excited doing this, you know?\"\n",
        "toks = re.findall(r'\\w+|[^\\w\\s]+', seq); toks"
      ]
    },
    {
      "cell_type": "markdown",
      "metadata": {
        "id": "OnfHdir_E8Hz"
      },
      "source": [
        "After tokenizing, an ID is assigned to each word, or token, so the model can identify them.\n",
        "\n",
        "The issue with the word-based approach is wend up with huge vocabularies^[A vocabulary is a collection of tokens.], especially when splitting on punctuation. For instance, the English language has over 500,000 words, so we would also need more than 500,000 tokens.\n",
        "\n",
        "To remedy this, we could use only the $x$ most frequently used words However, the issue that arises here is when the tokenizer encounters a word not present in its vocabulary. In this situation, a token representing the concept of \"unknown\" would be assigned^[Examples of such tokens include \\[UNK\\] or \\<unk\\>.]. When there are many such tokens, the model has no way of \"knowing\" that these tokens in fact represent different words.\n",
        "\n",
        "Another issue with this approach is that the tokenizer will assign words such as \"car\" and \"cars\" different tokens. The model will not know that these two words are actually similar and represent almost the same concept.\n",
        "\n"
      ]
    },
    {
      "cell_type": "markdown",
      "metadata": {
        "id": "g24CiW4HHHlZ"
      },
      "source": [
        "## Character-based"
      ]
    },
    {
      "cell_type": "markdown",
      "metadata": {
        "id": "Qu8RzXgAJKDN"
      },
      "source": [
        "This approach splits text into characters, resulting in a much, much smaller vocabulary – the English alphabet only has 26 letters, as opposed to hundreds of thousands of words. It also results in fewer unknown tokens as words are comprised from everything within the vocabulary."
      ]
    },
    {
      "cell_type": "code",
      "execution_count": 3,
      "metadata": {
        "colab": {
          "base_uri": "https://localhost:8080/"
        },
        "id": "rgjR0Aa0HIty",
        "outputId": "857f71cd-b624-4a43-ee6a-ae9028d267d8"
      },
      "outputs": [
        {
          "data": {
            "text/plain": [
              "['W',\n",
              " 'h',\n",
              " 'o',\n",
              " ' ',\n",
              " 'd',\n",
              " 'o',\n",
              " 'e',\n",
              " 's',\n",
              " 'n',\n",
              " \"'\",\n",
              " 't',\n",
              " ' ',\n",
              " 'l',\n",
              " 'o',\n",
              " 'v',\n",
              " 'e',\n",
              " ' ',\n",
              " 't',\n",
              " 'o',\n",
              " 'k',\n",
              " 'e',\n",
              " 'n',\n",
              " 'i',\n",
              " 'z',\n",
              " 'a',\n",
              " 't',\n",
              " 'i',\n",
              " 'o',\n",
              " 'n',\n",
              " '!']"
            ]
          },
          "execution_count": 3,
          "metadata": {},
          "output_type": "execute_result"
        }
      ],
      "source": [
        "list(\"Who doesn't love tokenization!\")"
      ]
    },
    {
      "cell_type": "markdown",
      "metadata": {
        "id": "jGKme1BYJanv"
      },
      "source": [
        "However, this approach also has its drawbacks. Individual characters hold less meaning than a whole word. For example, 't' holds less meaning than 'tokenization'.\n",
        "\n",
        "That said, this issue is not as prevalent in other languages. In Chinese languages, each character is also a word. Therefore, characters in Chinese languages hold less meaning than characters in Latin languages.\n",
        "\n",
        "While there will be an overall smaller vocabulary, there will still be much processing to do – we end up with a large amount of individual tokens to process. 'Hello!' would need only a single token, where as 'H', 'e', 'l', 'l', 'o', and '!' would require six tokens."
      ]
    },
    {
      "cell_type": "markdown",
      "metadata": {
        "id": "-EJfDYy8I7qn"
      },
      "source": [
        "## Subword-based"
      ]
    },
    {
      "cell_type": "markdown",
      "metadata": {
        "id": "0QUCZtAwKT-L"
      },
      "source": [
        "This approach is a combination of the two approaches above, and is also the approach most state-of-the-art tokenizers use today.\n",
        "\n",
        "With subword-based tokenizers, words fall into two categories: frequent words and rare words. Frequent words are not to be split, but rare words are to be split into meaningful subwords.\n",
        "\n",
        "![](../images/19_tokenizers/1.png)\n",
        "\n",
        "For example, 'tokenization' would be categorized as a rare word and would be tokenized into the tokens 'token' and 'ization'. Though one word is now represented by two tokens, as opposed to a single token with the word-based approach, it is split into two components that much more frequently appear. We also don't need eleven tokens, as would be with the character-based approach. On top of that, the model would learn the grammatical function of 'ization'.\n",
        "\n",
        "This is all while giving the model the ability to learn the meaning of 'realization' as the two tokens that comprise the word appear next to each other\n",
        "\n",
        "This approach allows us to have relatively good covereage for a language while having relatively smaller vocabularies. It also results in minimal unknown tokens."
      ]
    },
    {
      "cell_type": "markdown",
      "metadata": {
        "id": "LAu3GTZ7Sem7"
      },
      "source": [
        "## Tokenizing Time"
      ]
    },
    {
      "cell_type": "markdown",
      "metadata": {
        "id": "6atuM3yWTXkn"
      },
      "source": [
        "If we draw parallels between a tokenizer and a model, the algorithm of a tokenizer is akin to the architecture of a model. On a similar note, the vocabulary of a tokenizer is akin to the weights of a model."
      ]
    },
    {
      "cell_type": "markdown",
      "metadata": {
        "id": "Qh0V2XWRFDNA"
      },
      "source": [
        "Let's load in the tokenizer used for the [BERT base model (cased)](https://huggingface.co/bert-base-cased)."
      ]
    },
    {
      "cell_type": "code",
      "execution_count": 4,
      "metadata": {
        "id": "WuKd5rebSgb_"
      },
      "outputs": [],
      "source": [
        "! pip install -Uqq transformers"
      ]
    },
    {
      "cell_type": "code",
      "execution_count": 5,
      "metadata": {
        "id": "rbVDLsHVBPss"
      },
      "outputs": [],
      "source": [
        "import logging; logging.disable(logging.WARNING) #<1>\n",
        "from transformers import AutoTokenizer\n",
        "\n",
        "tokz = AutoTokenizer.from_pretrained('bert-base-cased')"
      ]
    },
    {
      "cell_type": "markdown",
      "metadata": {
        "id": "a-_2qk36BWbG"
      },
      "source": [
        "1. HuggingFace is verbose."
      ]
    },
    {
      "cell_type": "markdown",
      "metadata": {
        "id": "AD2vEiWFFaOo"
      },
      "source": [
        "We can use the loaded tokenizer to directly tokenize our desired sequence."
      ]
    },
    {
      "cell_type": "code",
      "execution_count": 6,
      "metadata": {
        "colab": {
          "base_uri": "https://localhost:8080/"
        },
        "id": "yv_FKNqzTIDj",
        "outputId": "54c37ef9-3702-4dcd-c2cc-1cc2f576ff05"
      },
      "outputs": [
        {
          "data": {
            "text/plain": [
              "{'input_ids': [101, 1109, 1965, 1104, 22559, 2734, 1144, 1730, 1143, 1106, 1103, 12647, 5727, 1158, 6593, 131, 1297, 2762, 112, 189, 1184, 1122, 1110, 119, 102], 'token_type_ids': [0, 0, 0, 0, 0, 0, 0, 0, 0, 0, 0, 0, 0, 0, 0, 0, 0, 0, 0, 0, 0, 0, 0, 0, 0], 'attention_mask': [1, 1, 1, 1, 1, 1, 1, 1, 1, 1, 1, 1, 1, 1, 1, 1, 1, 1, 1, 1, 1, 1, 1, 1, 1]}"
            ]
          },
          "execution_count": 6,
          "metadata": {},
          "output_type": "execute_result"
        }
      ],
      "source": [
        "seq = \"The process of tokenization has lead me to the appalling conclusion: life isn't what it is.\"\n",
        "tokz(seq)"
      ]
    },
    {
      "cell_type": "markdown",
      "metadata": {
        "id": "-SBfDd3lFgcM"
      },
      "source": [
        "However, let's look behind the scenes to see what's happening. We'll only focus on how `input_ids` came to be."
      ]
    },
    {
      "cell_type": "markdown",
      "metadata": {
        "id": "_YDgySgvTK8P"
      },
      "source": [
        "## Behind the Scenes"
      ]
    },
    {
      "cell_type": "markdown",
      "metadata": {
        "id": "k3RkZ6E0UbHe"
      },
      "source": [
        "### Encoding"
      ]
    },
    {
      "cell_type": "markdown",
      "metadata": {
        "id": "Tq74H0m0Fytv"
      },
      "source": [
        "Encoding is the name given to the process whereby text is mapped to numbers. Text is first tokenized, after which, the tokens are mapped to their respective IDs."
      ]
    },
    {
      "cell_type": "markdown",
      "metadata": {
        "id": "4vZQ8vsFUILN"
      },
      "source": [
        "#### Tokenization"
      ]
    },
    {
      "cell_type": "code",
      "execution_count": 7,
      "metadata": {
        "colab": {
          "base_uri": "https://localhost:8080/"
        },
        "id": "kKDya8aKUWdh",
        "outputId": "86d16c18-36e7-4741-c9c8-5c3c3a6a1687"
      },
      "outputs": [
        {
          "data": {
            "text/plain": [
              "['The',\n",
              " 'process',\n",
              " 'of',\n",
              " 'token',\n",
              " '##ization',\n",
              " 'has',\n",
              " 'lead',\n",
              " 'me',\n",
              " 'to',\n",
              " 'the',\n",
              " 'app',\n",
              " '##all',\n",
              " '##ing',\n",
              " 'conclusion',\n",
              " ':',\n",
              " 'life',\n",
              " 'isn',\n",
              " \"'\",\n",
              " 't',\n",
              " 'what',\n",
              " 'it',\n",
              " 'is',\n",
              " '.']"
            ]
          },
          "execution_count": 7,
          "metadata": {},
          "output_type": "execute_result"
        }
      ],
      "source": [
        "toks = tokz.tokenize(seq); toks"
      ]
    },
    {
      "cell_type": "markdown",
      "metadata": {
        "id": "xPLzPYZZHkQF"
      },
      "source": [
        "As we can see, the tokenizer used by the BERT base model (cased) is a subword-based tokenizer. This can be seen by 'tokenization' being split into 'token' and '##ization', as well as 'appalling' being split into 'app', '##all', and '##ing'."
      ]
    },
    {
      "cell_type": "markdown",
      "metadata": {
        "id": "6qesY4LQUlf8"
      },
      "source": [
        "#### Tokens to IDs"
      ]
    },
    {
      "cell_type": "code",
      "execution_count": 8,
      "metadata": {
        "colab": {
          "base_uri": "https://localhost:8080/"
        },
        "id": "oLzD_HNPU2Pl",
        "outputId": "1e775139-627e-4994-d613-f8842dfb23f7"
      },
      "outputs": [
        {
          "data": {
            "text/plain": [
              "[1109,\n",
              " 1965,\n",
              " 1104,\n",
              " 22559,\n",
              " 2734,\n",
              " 1144,\n",
              " 1730,\n",
              " 1143,\n",
              " 1106,\n",
              " 1103,\n",
              " 12647,\n",
              " 5727,\n",
              " 1158,\n",
              " 6593,\n",
              " 131,\n",
              " 1297,\n",
              " 2762,\n",
              " 112,\n",
              " 189,\n",
              " 1184,\n",
              " 1122,\n",
              " 1110,\n",
              " 119]"
            ]
          },
          "execution_count": 8,
          "metadata": {},
          "output_type": "execute_result"
        }
      ],
      "source": [
        "ids = tokz.convert_tokens_to_ids(toks); ids"
      ]
    },
    {
      "cell_type": "markdown",
      "metadata": {
        "id": "WAanFieIU5iL"
      },
      "source": [
        "The numbers that have been assigned are based on the vocabulary of the tokenizer. These IDs can now be used as input to a model."
      ]
    },
    {
      "cell_type": "markdown",
      "metadata": {
        "id": "zgjfhpILVAiY"
      },
      "source": [
        "## Decoding"
      ]
    },
    {
      "cell_type": "markdown",
      "metadata": {
        "id": "7wkb7M5HVCVR"
      },
      "source": [
        "Decoding is simply the opposite process: convert a sequence of IDs into their respective tokens, including putting together tokens that were part of the same word."
      ]
    },
    {
      "cell_type": "code",
      "execution_count": 9,
      "metadata": {
        "colab": {
          "base_uri": "https://localhost:8080/",
          "height": 53
        },
        "id": "C9AfWkbQVRY0",
        "outputId": "c4f87052-7ff4-4e56-972b-47103df0d782"
      },
      "outputs": [
        {
          "data": {
            "application/vnd.google.colaboratory.intrinsic+json": {
              "type": "string"
            },
            "text/plain": [
              "\"The process of tokenization has lead me to the appalling conclusion : life isn't what it is.\""
            ]
          },
          "execution_count": 9,
          "metadata": {},
          "output_type": "execute_result"
        }
      ],
      "source": [
        "dec_seq = tokz.decode(ids); dec_seq"
      ]
    },
    {
      "cell_type": "markdown",
      "metadata": {
        "id": "sNWcuZYfVWDG"
      },
      "source": [
        "The decoding algorithm of our tokenzier has introduced a space before the colon. 🤔\n",
        "\n",
        "Decoding is used for models that generate text: the model outputs a sequence of IDs which are then decoded to their respective tokens."
      ]
    },
    {
      "cell_type": "markdown",
      "metadata": {
        "id": "3d4BsEhbVlLq"
      },
      "source": [
        "## Conclusion"
      ]
    },
    {
      "cell_type": "markdown",
      "metadata": {
        "id": "jGUvjsIJICMZ"
      },
      "source": [
        "Tokenization is all about splitting text up and giving the split up text a numerical representation that computers can work with.\n",
        "\n",
        "If you have any comments, questions, suggestions, feedback, criticisms, or corrections, please do post them down in the comment section below!"
      ]
    },
    {
      "cell_type": "code",
      "execution_count": 9,
      "metadata": {
        "id": "dAomsQ9eISiu"
      },
      "outputs": [],
      "source": []
    }
  ],
  "metadata": {
    "colab": {
      "provenance": []
    },
    "kernelspec": {
      "display_name": "Python 3",
      "name": "python3"
    },
    "language_info": {
      "name": "python"
    }
  },
  "nbformat": 4,
  "nbformat_minor": 0
}
